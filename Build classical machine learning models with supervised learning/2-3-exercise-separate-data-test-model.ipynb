{
  "cells": [
    {
      "cell_type": "markdown",
      "source": [
        "# Exercise: Supervised learning\r\n",
        "\r\n",
        "Recall our farming scenario, in which we want to look at how January temperatures have changed over time. Now we'll build a model that achieves this by using supervised learning. \r\n",
        "\r\n",
        "With many libraries, we can build a model in only a few lines of code. Here, we'll break down the process into steps so that we can explore how things work.\r\n",
        "\r\n",
        "## Four components\r\n",
        "Recall that there are four key components to supervised learning: the data, the model, the cost function, and the optimizer. Let's inspect these one at a time.\r\n",
        "\r\n",
        "### 1. The data\r\n",
        "\r\n",
        "We'll use publicly available weather data for Seattle. Let's load that and restrict it to January temperatures."
      ],
      "metadata": {},
      "id": "55c7ab2b-d1e2-4fae-bccd-b2c178714ce2"
    },
    {
      "cell_type": "code",
      "source": [
        "import pandas\r\n",
        "!wget https://raw.githubusercontent.com/MicrosoftDocs/mslearn-introduction-to-machine-learning/main/graphing.py\r\n",
        "!wget https://raw.githubusercontent.com/MicrosoftDocs/mslearn-introduction-to-machine-learning/main/m0b_optimizer.py\r\n",
        "!wget https://raw.githubusercontent.com/MicrosoftDocs/mslearn-introduction-to-machine-learning/main/Data/seattleWeather_1948-2017.csv\r\n",
        "\r\n",
        "# Load a file that contains weather data for Seattle\r\n",
        "data = pandas.read_csv('seattleWeather_1948-2017.csv', parse_dates=['date'])\r\n",
        "\r\n",
        "# Keep only January temperatures\r\n",
        "data = data[[d.month == 1 for d in data.date]].copy()\r\n",
        "\r\n",
        "\r\n",
        "# Print the first and last few rows\r\n",
        "# Remember that with Jupyter notebooks, the last line of \r\n",
        "# code is automatically printed\r\n",
        "data"
      ],
      "outputs": [
        {
          "output_type": "stream",
          "name": "stdout",
          "text": "--2023-04-27 06:12:34--  https://raw.githubusercontent.com/MicrosoftDocs/mslearn-introduction-to-machine-learning/main/graphing.py\nResolving raw.githubusercontent.com (raw.githubusercontent.com)... 185.199.111.133, 185.199.108.133, 185.199.109.133, ...\nConnecting to raw.githubusercontent.com (raw.githubusercontent.com)|185.199.111.133|:443... connected.\nHTTP request sent, awaiting response... 200 OK\nLength: 21511 (21K) [text/plain]\nSaving to: ‘graphing.py’\n\ngraphing.py         100%[===================>]  21.01K  --.-KB/s    in 0s      \n\n2023-04-27 06:12:34 (84.5 MB/s) - ‘graphing.py’ saved [21511/21511]\n\n--2023-04-27 06:12:36--  https://raw.githubusercontent.com/MicrosoftDocs/mslearn-introduction-to-machine-learning/main/m0b_optimizer.py\nResolving raw.githubusercontent.com (raw.githubusercontent.com)... 185.199.110.133, 185.199.109.133, 185.199.108.133, ...\nConnecting to raw.githubusercontent.com (raw.githubusercontent.com)|185.199.110.133|:443... connected.\nHTTP request sent, awaiting response... 200 OK\nLength: 1287 (1.3K) [text/plain]\nSaving to: ‘m0b_optimizer.py’\n\nm0b_optimizer.py    100%[===================>]   1.26K  --.-KB/s    in 0s      \n\n2023-04-27 06:12:36 (12.6 MB/s) - ‘m0b_optimizer.py’ saved [1287/1287]\n\n--2023-04-27 06:12:38--  https://raw.githubusercontent.com/MicrosoftDocs/mslearn-introduction-to-machine-learning/main/Data/seattleWeather_1948-2017.csv\nResolving raw.githubusercontent.com (raw.githubusercontent.com)... 185.199.110.133, 185.199.109.133, 185.199.108.133, ...\nConnecting to raw.githubusercontent.com (raw.githubusercontent.com)|185.199.110.133|:443... connected.\nHTTP request sent, awaiting response... 200 OK\nLength: 762017 (744K) [text/plain]\nSaving to: ‘seattleWeather_1948-2017.csv’\n\nseattleWeather_1948 100%[===================>] 744.16K  --.-KB/s    in 0.02s   \n\n2023-04-27 06:12:38 (35.0 MB/s) - ‘seattleWeather_1948-2017.csv’ saved [762017/762017]\n\n"
        },
        {
          "output_type": "execute_result",
          "execution_count": 1,
          "data": {
            "text/plain": "            date  amount_of_precipitation  max_temperature  min_temperature  \\\n0     1948-01-01                     0.47               51               42   \n1     1948-01-02                     0.59               45               36   \n2     1948-01-03                     0.42               45               35   \n3     1948-01-04                     0.31               45               34   \n4     1948-01-05                     0.17               45               32   \n...          ...                      ...              ...              ...   \n25229 2017-01-27                     0.00               54               37   \n25230 2017-01-28                     0.00               52               37   \n25231 2017-01-29                     0.03               48               37   \n25232 2017-01-30                     0.02               45               40   \n25233 2017-01-31                     0.00               44               34   \n\n        rain  \n0       True  \n1       True  \n2       True  \n3       True  \n4       True  \n...      ...  \n25229  False  \n25230  False  \n25231   True  \n25232   True  \n25233  False  \n\n[2170 rows x 5 columns]",
            "text/html": "<div>\n<style scoped>\n    .dataframe tbody tr th:only-of-type {\n        vertical-align: middle;\n    }\n\n    .dataframe tbody tr th {\n        vertical-align: top;\n    }\n\n    .dataframe thead th {\n        text-align: right;\n    }\n</style>\n<table border=\"1\" class=\"dataframe\">\n  <thead>\n    <tr style=\"text-align: right;\">\n      <th></th>\n      <th>date</th>\n      <th>amount_of_precipitation</th>\n      <th>max_temperature</th>\n      <th>min_temperature</th>\n      <th>rain</th>\n    </tr>\n  </thead>\n  <tbody>\n    <tr>\n      <th>0</th>\n      <td>1948-01-01</td>\n      <td>0.47</td>\n      <td>51</td>\n      <td>42</td>\n      <td>True</td>\n    </tr>\n    <tr>\n      <th>1</th>\n      <td>1948-01-02</td>\n      <td>0.59</td>\n      <td>45</td>\n      <td>36</td>\n      <td>True</td>\n    </tr>\n    <tr>\n      <th>2</th>\n      <td>1948-01-03</td>\n      <td>0.42</td>\n      <td>45</td>\n      <td>35</td>\n      <td>True</td>\n    </tr>\n    <tr>\n      <th>3</th>\n      <td>1948-01-04</td>\n      <td>0.31</td>\n      <td>45</td>\n      <td>34</td>\n      <td>True</td>\n    </tr>\n    <tr>\n      <th>4</th>\n      <td>1948-01-05</td>\n      <td>0.17</td>\n      <td>45</td>\n      <td>32</td>\n      <td>True</td>\n    </tr>\n    <tr>\n      <th>...</th>\n      <td>...</td>\n      <td>...</td>\n      <td>...</td>\n      <td>...</td>\n      <td>...</td>\n    </tr>\n    <tr>\n      <th>25229</th>\n      <td>2017-01-27</td>\n      <td>0.00</td>\n      <td>54</td>\n      <td>37</td>\n      <td>False</td>\n    </tr>\n    <tr>\n      <th>25230</th>\n      <td>2017-01-28</td>\n      <td>0.00</td>\n      <td>52</td>\n      <td>37</td>\n      <td>False</td>\n    </tr>\n    <tr>\n      <th>25231</th>\n      <td>2017-01-29</td>\n      <td>0.03</td>\n      <td>48</td>\n      <td>37</td>\n      <td>True</td>\n    </tr>\n    <tr>\n      <th>25232</th>\n      <td>2017-01-30</td>\n      <td>0.02</td>\n      <td>45</td>\n      <td>40</td>\n      <td>True</td>\n    </tr>\n    <tr>\n      <th>25233</th>\n      <td>2017-01-31</td>\n      <td>0.00</td>\n      <td>44</td>\n      <td>34</td>\n      <td>False</td>\n    </tr>\n  </tbody>\n</table>\n<p>2170 rows × 5 columns</p>\n</div>"
          },
          "metadata": {}
        }
      ],
      "execution_count": 1,
      "metadata": {},
      "id": "24624bee-bfd1-4385-a5d0-b36974b7efa3"
    },
    {
      "cell_type": "markdown",
      "source": [
        "We have data from 1948 to 2017, split across 2,170 rows. \r\n",
        "\r\n",
        "We'll analyze the relationship between `date` and daily minimum temperatures. Let's take a quick look at our data as a graph. \r\n"
      ],
      "metadata": {},
      "id": "9ee70294-3e10-471f-bc87-e4e7061ba16b"
    },
    {
      "cell_type": "code",
      "source": [
        "import graphing # Custom graphing code. See our GitHub repository for details\r\n",
        "\r\n",
        "# Let's take a quick look at our data\r\n",
        "graphing.scatter_2D(data, label_x=\"date\", label_y=\"min_temperature\", title=\"January Temperatures (°F)\")"
      ],
      "outputs": [],
      "execution_count": null,
      "metadata": {},
      "id": "af1ac20c-2af8-4653-bb04-4f28ec4c731c"
    },
    {
      "cell_type": "markdown",
      "source": [
        "Machine learning usually works best when the X and Y axes have roughly the same range of values. We'll cover why in later learning material. For now, let's just scale our data slightly."
      ],
      "metadata": {},
      "id": "2782990a-08d8-48a5-be27-b8c25bfb90bc"
    },
    {
      "cell_type": "code",
      "source": [
        "import numpy as np\r\n",
        "\r\n",
        "# This block of code scales and offsets the data slightly, which helps the training process\r\n",
        "# You don't need to understand this code. We'll cover these concepts in later learning material\r\n",
        "\r\n",
        "# Offset date into number of years since 1982\r\n",
        "data[\"years_since_1982\"] = [(d.year + d.timetuple().tm_yday / 365.25) - 1982 for d in data.date]\r\n",
        "\r\n",
        "# Scale and offset temperature so that it has a smaller range of values\r\n",
        "data[\"normalised_temperature\"] = (data[\"min_temperature\"] - np.mean(data[\"min_temperature\"])) / np.std(data[\"min_temperature\"])\r\n",
        "\r\n",
        "# Graph\r\n",
        "graphing.scatter_2D(data, label_x=\"years_since_1982\", label_y=\"normalised_temperature\", title=\"January Temperatures (Normalised)\")\r\n"
      ],
      "outputs": [],
      "execution_count": null,
      "metadata": {},
      "id": "231d2492-4988-4ab5-bd64-d6b47c5f3316"
    },
    {
      "cell_type": "markdown",
      "source": [
        "### 2. The model\r\n",
        "\r\n",
        "We'll select a simple linear regression model. This model uses a line to make estimates. You might have come across trendlines like these before when making graphs."
      ],
      "metadata": {},
      "id": "4459aafc-cd35-478d-bb9e-cc3a34657d41"
    },
    {
      "cell_type": "code",
      "source": [
        "class MyModel:\r\n",
        "\r\n",
        "    def __init__(self):\r\n",
        "        '''\r\n",
        "        Creates a new MyModel\r\n",
        "        '''\r\n",
        "        # Straight lines described by two parameters:\r\n",
        "        # The slope is the angle of the line\r\n",
        "        self.slope = 0\r\n",
        "        # The intercept moves the line up or down\r\n",
        "        self.intercept = 0\r\n",
        "\r\n",
        "    def predict(self, date):\r\n",
        "        '''\r\n",
        "        Estimates the temperature from the date\r\n",
        "        '''\r\n",
        "        return date * self.slope + self.intercept\r\n",
        "\r\n",
        "# Create our model ready to be trained\r\n",
        "model = MyModel()\r\n",
        "\r\n",
        "print(\"Model made!\")"
      ],
      "outputs": [],
      "execution_count": null,
      "metadata": {},
      "id": "2be6f243-57f9-4f5c-8758-43db986430bf"
    },
    {
      "cell_type": "markdown",
      "source": [
        "We wouldn't normally use a model before it has been trained, but for the sake of learning, let's take a quick look at it."
      ],
      "metadata": {},
      "id": "af84e7e5-7a02-40e7-95a1-51053e2b875d"
    },
    {
      "cell_type": "code",
      "source": [
        "print(f\"Model parameters before training: {model.intercept}, {model.slope}\")\r\n",
        "\r\n",
        "# Look at how well the model does before training\r\n",
        "print(\"Model visualised before training:\")\r\n",
        "graphing.scatter_2D(data, \"years_since_1982\", \"normalised_temperature\", trendline=model.predict)   "
      ],
      "outputs": [],
      "execution_count": null,
      "metadata": {},
      "id": "34e50a3f-bf7f-4f1e-8fec-2795ac8057cf"
    },
    {
      "cell_type": "markdown",
      "source": [
        "You can see that before training, our model (the red line) isn't useful at all. It always simply predicts zero.\r\n",
        "\r\n",
        "### 3. The cost (objective) function\r\n",
        "\r\n",
        "Our next step is to create a _cost function_ (_objective function_).\r\n",
        "\r\n",
        "These functions in supervised learning compare the model's estimate to the correct answer. In our case, our label is temperature, so our cost function will compare the estimated temperature to temperatures seen in the historical records."
      ],
      "metadata": {},
      "id": "734abe67-bbd7-4d41-a054-beda948bad6f"
    },
    {
      "cell_type": "code",
      "source": [
        "def cost_function(actual_temperatures, estimated_temperatures):\r\n",
        "    '''\r\n",
        "    Calculates the difference between actual and estimated temperatures\r\n",
        "    Returns the difference, and also returns the squared difference (the cost)\r\n",
        "\r\n",
        "    actual_temperatures: One or more temperatures recorded in the past\r\n",
        "    estimated_temperatures: Corresponding temperature(s) estimated by the model\r\n",
        "    '''\r\n",
        "\r\n",
        "    # Calculate the difference between actual temperatures and those\r\n",
        "    # estimated by the model\r\n",
        "    difference = estimated_temperatures - actual_temperatures\r\n",
        "\r\n",
        "    # Convert to a single number that tells us how well the model did\r\n",
        "    # (smaller numbers are better)\r\n",
        "    cost = sum(difference ** 2)\r\n",
        "\r\n",
        "    return difference, cost"
      ],
      "outputs": [],
      "execution_count": null,
      "metadata": {},
      "id": "2739dfe4-61d1-43d7-a41a-13d5b7a8532a"
    },
    {
      "cell_type": "markdown",
      "source": [
        "### 4. The optimizer\r\n",
        "\r\n",
        "The role of the optimizer is to guess new parameter values for the model. \r\n",
        "\r\n",
        "We haven't covered optimizers in detail yet, so to make things simple, we'll use an prewritten optimizer. You don't need to understand how this works, but if you're curious, you can find it in our GitHub repository. "
      ],
      "metadata": {},
      "id": "96c88c31-842a-4295-bf96-8b8a4ae67e3c"
    },
    {
      "cell_type": "code",
      "source": [
        "from m0b_optimizer import MyOptimizer\r\n",
        "\r\n",
        "# Create an optimizer\r\n",
        "optimizer = MyOptimizer()"
      ],
      "outputs": [],
      "execution_count": null,
      "metadata": {},
      "id": "a12572a1-7992-48ce-b9c9-cc4afce08e40"
    },
    {
      "cell_type": "markdown",
      "source": [
        "## The training loop\r\n",
        "\r\n",
        "Let's put these components together so that they train the model. \r\n",
        "\r\n",
        "First, let's make a function that performs one iteration of training. Read each step carefully in the following code. If you want, add some `print()` statements inside the method to help you see the training in action."
      ],
      "metadata": {},
      "id": "d168fef5-6c22-4113-a106-fc9161c20030"
    },
    {
      "cell_type": "code",
      "source": [
        "def train_one_iteration(model_inputs, true_temperatures, last_cost:float):\r\n",
        "    '''\r\n",
        "    Runs a single iteration of training.\r\n",
        "\r\n",
        "\r\n",
        "    model_inputs: One or more dates to provide the model (dates)\r\n",
        "    true_temperatues: Corresponding temperatures known to occur on those dates\r\n",
        "\r\n",
        "    Returns:\r\n",
        "        A Boolean, as to whether training should continue\r\n",
        "        The cost calculated (small numbers are better)\r\n",
        "    '''\r\n",
        "\r\n",
        "    # === USE THE MODEL ===\r\n",
        "    # Estimate temperatures for all data that we have\r\n",
        "    estimated_temperatures = model.predict(model_inputs)\r\n",
        "\r\n",
        "    # === OBJECTIVE FUNCTION ===\r\n",
        "    # Calculate how well the model is working\r\n",
        "    # Smaller numbers are better \r\n",
        "    difference, cost = cost_function(true_temperatures, estimated_temperatures)\r\n",
        "\r\n",
        "    # Decide whether to keep training\r\n",
        "    # We'll stop if the training is no longer improving the model effectively\r\n",
        "    if cost >= last_cost:\r\n",
        "        # Stop training\r\n",
        "        return False, cost\r\n",
        "    else:\r\n",
        "        # === OPTIMIZER ===\r\n",
        "        # Calculate updates to parameters\r\n",
        "        intercept_update, slope_update = optimizer.get_parameter_updates(model_inputs, cost, difference)\r\n",
        "\r\n",
        "        # Change the model parameters\r\n",
        "        model.slope += slope_update\r\n",
        "        model.intercept += intercept_update\r\n",
        "\r\n",
        "        return True, cost\r\n",
        "\r\n",
        "print(\"Training method ready\")"
      ],
      "outputs": [],
      "execution_count": null,
      "metadata": {},
      "id": "71fbe4c9-9e1b-431a-953b-e219ae3ac70e"
    },
    {
      "cell_type": "markdown",
      "source": [
        "Let's run a few iterations manually, so that you can watch how training works.\r\n",
        "\r\n",
        "Run the following code several times, and note how the model changes."
      ],
      "metadata": {},
      "id": "25e05ee8-1c39-453f-ba86-3becb21b8ad8"
    },
    {
      "cell_type": "code",
      "source": [
        "import math\r\n",
        "\r\n",
        "print(f\"Model parameters before training:\\t\\t{model.intercept:.8f},\\t{model.slope:.8f}\")\r\n",
        "\r\n",
        "continue_loop, cost = train_one_iteration(model_inputs = data[\"years_since_1982\"],\r\n",
        "                                                    true_temperatures = data[\"normalised_temperature\"],\r\n",
        "                                                    last_cost = math.inf)\r\n",
        "\r\n",
        "print(f\"Model parameters after 1 iteration of training:\\t{model.intercept:.8f},\\t{model.slope:.8f}\")\r\n"
      ],
      "outputs": [],
      "execution_count": null,
      "metadata": {},
      "id": "eb12d1ed-4fab-4be9-ba2a-e055e688baa0"
    },
    {
      "cell_type": "markdown",
      "source": [
        "It will take thousands of iterations to train the model well, so let's wrap it in a loop."
      ],
      "metadata": {},
      "id": "2f94a8a2-9507-4110-b58d-76613a53eb31"
    },
    {
      "cell_type": "code",
      "source": [
        "\r\n",
        "# Start the loop\r\n",
        "print(\"Training beginning...\")\r\n",
        "last_cost = math.inf\r\n",
        "i = 0\r\n",
        "continue_loop = True\r\n",
        "while continue_loop:\r\n",
        "\r\n",
        "    # Run one iteration of training\r\n",
        "    # This will tell us whether to stop training, and also what\r\n",
        "    # the cost was for this iteration\r\n",
        "    continue_loop, last_cost = train_one_iteration(model_inputs = data[\"years_since_1982\"],\r\n",
        "                                                    true_temperatures = data[\"normalised_temperature\"],\r\n",
        "                                                    last_cost = last_cost)\r\n",
        "   \r\n",
        "    # Print the status\r\n",
        "    if i % 400 == 0:\r\n",
        "        print(\"Iteration:\", i)\r\n",
        "\r\n",
        "    i += 1\r\n",
        "\r\n",
        "    \r\n",
        "print(\"Training complete!\")\r\n",
        "print(f\"Model parameters after training:\\t{model.intercept:.8f},\\t{model.slope:.8f}\")\r\n",
        "graphing.scatter_2D(data, \"years_since_1982\", \"normalised_temperature\", trendline=model.predict)    "
      ],
      "outputs": [],
      "execution_count": null,
      "metadata": {
        "tags": []
      },
      "id": "2b8b48e7-f2f2-4394-acb9-251670e4e56d"
    },
    {
      "cell_type": "markdown",
      "source": [
        "Notice how now the model is trained. It's giving more sensible predictions about January temperatures.\r\n",
        "\r\n",
        "Interestingly, the model shows temperatures going up over time. Perhaps we need to stop feeding grain to our elk earlier in the year!\r\n",
        "\r\n",
        "## Summary\r\n",
        "\r\n",
        "In this exercise, we split up supervised learning into its individual stages to see what's going on in code when we use third-party libraries. The important point to take away is how these pieces fit together. Note that most parts of this process require data."
      ],
      "metadata": {},
      "id": "6451442d-8c23-4236-ab5b-cdf10b7acc5d"
    }
  ],
  "metadata": {
    "kernelspec": {
      "name": "conda-env-azureml_py38-py",
      "language": "python",
      "display_name": "azureml_py38"
    },
    "language_info": {
      "name": "python",
      "version": "3.8.5",
      "mimetype": "text/x-python",
      "codemirror_mode": {
        "name": "ipython",
        "version": 3
      },
      "pygments_lexer": "ipython3",
      "nbconvert_exporter": "python",
      "file_extension": ".py"
    },
    "kernel_info": {
      "name": "conda-env-azureml_py38-py"
    },
    "nteract": {
      "version": "nteract-front-end@1.0.0"
    }
  },
  "nbformat": 4,
  "nbformat_minor": 5
}